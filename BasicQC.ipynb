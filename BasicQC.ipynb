{
 "cells": [
  {
   "cell_type": "code",
   "execution_count": 2,
   "id": "5dbe323f",
   "metadata": {},
   "outputs": [],
   "source": [
    "from qutip import *"
   ]
  },
  {
   "cell_type": "code",
   "execution_count": 3,
   "id": "fbce36e1",
   "metadata": {},
   "outputs": [],
   "source": [
    "import numpy as np\n",
    "\n",
    "import matplotlib.pyplot as plt"
   ]
  },
  {
   "cell_type": "markdown",
   "id": "f5ec9c7e",
   "metadata": {},
   "source": [
    "# The quantum object class"
   ]
  },
  {
   "cell_type": "code",
   "execution_count": 4,
   "id": "57aae0a9",
   "metadata": {},
   "outputs": [
    {
     "name": "stdout",
     "output_type": "stream",
     "text": [
      "Quantum object: dims = [[1], [1]], shape = (1, 1), type = bra\n",
      "Qobj data =\n",
      "[[0.]]\n"
     ]
    }
   ],
   "source": [
    "print(Qobj())"
   ]
  },
  {
   "cell_type": "code",
   "execution_count": 5,
   "id": "2c7f238d",
   "metadata": {},
   "outputs": [
    {
     "name": "stdout",
     "output_type": "stream",
     "text": [
      "Quantum object: dims = [[5], [1]], shape = (5, 1), type = ket\n",
      "Qobj data =\n",
      "[[1.]\n",
      " [2.]\n",
      " [3.]\n",
      " [4.]\n",
      " [5.]]\n"
     ]
    }
   ],
   "source": [
    "print(Qobj([[1],[2],[3],[4],[5]]))"
   ]
  },
  {
   "cell_type": "code",
   "execution_count": 6,
   "id": "2d927f11",
   "metadata": {},
   "outputs": [
    {
     "name": "stdout",
     "output_type": "stream",
     "text": [
      "Quantum object: dims = [[1], [5]], shape = (1, 5), type = bra\n",
      "Qobj data =\n",
      "[[1. 2. 3. 4. 5.]]\n"
     ]
    }
   ],
   "source": [
    "x = np.array([[1, 2, 3, 4, 5]])\n",
    "print(Qobj(x))"
   ]
  },
  {
   "cell_type": "code",
   "execution_count": 7,
   "id": "9380ddc6",
   "metadata": {},
   "outputs": [
    {
     "name": "stdout",
     "output_type": "stream",
     "text": [
      "Quantum object: dims = [[8], [8]], shape = (8, 8), type = oper, isherm = False\n",
      "Qobj data =\n",
      "[[0.33060943 0.29314151 0.82170027 0.42846551 0.89378736 0.90783233\n",
      "  0.86797898 0.7865101 ]\n",
      " [0.40266153 0.44844116 0.88152248 0.07202133 0.69032239 0.1317123\n",
      "  0.00657011 0.29070351]\n",
      " [0.15203079 0.29815243 0.48924943 0.3247457  0.7385379  0.38105489\n",
      "  0.18853758 0.62568671]\n",
      " [0.13074871 0.13614371 0.59514342 0.73943296 0.60814968 0.29698553\n",
      "  0.6364438  0.97327015]\n",
      " [0.20627127 0.71100769 0.77748009 0.39616791 0.9968155  0.49075439\n",
      "  0.39633722 0.59960551]\n",
      " [0.68566915 0.16458442 0.47068571 0.12044367 0.5080246  0.72525153\n",
      "  0.34255587 0.41283155]\n",
      " [0.72821582 0.97998897 0.07800379 0.91177562 0.96193116 0.89357617\n",
      "  0.0036448  0.15245709]\n",
      " [0.24738966 0.64213157 0.71891002 0.62471028 0.10473884 0.93714279\n",
      "  0.07291763 0.9389534 ]]\n"
     ]
    }
   ],
   "source": [
    "r = np.random.rand(8, 8)\n",
    "print(Qobj(r))"
   ]
  },
  {
   "cell_type": "markdown",
   "id": "1c248fa7",
   "metadata": {},
   "source": [
    "# States and operators"
   ]
  },
  {
   "cell_type": "code",
   "execution_count": 10,
   "id": "d32c045f",
   "metadata": {},
   "outputs": [
    {
     "data": {
      "text/latex": [
       "Quantum object: dims = [[7], [1]], shape = (7, 1), type = ket\\begin{equation*}\\left(\\begin{array}{*{11}c}0.0\\\\0.0\\\\0.0\\\\0.0\\\\0.0\\\\1.0\\\\0.0\\\\\\end{array}\\right)\\end{equation*}"
      ],
      "text/plain": [
       "Quantum object: dims = [[7], [1]], shape = (7, 1), type = ket\n",
       "Qobj data =\n",
       "[[0.]\n",
       " [0.]\n",
       " [0.]\n",
       " [0.]\n",
       " [0.]\n",
       " [1.]\n",
       " [0.]]"
      ]
     },
     "execution_count": 10,
     "metadata": {},
     "output_type": "execute_result"
    }
   ],
   "source": [
    "basis(7,5)"
   ]
  },
  {
   "cell_type": "code",
   "execution_count": 11,
   "id": "16b310f1",
   "metadata": {},
   "outputs": [
    {
     "data": {
      "text/latex": [
       "Quantum object: dims = [[10], [1]], shape = (10, 1), type = ket\\begin{equation*}\\left(\\begin{array}{*{11}c}0.691\\\\(0.484-0.345j)\\\\(0.117-0.342j)\\\\(-0.051-0.172j)\\\\(-0.061-0.047j)\\\\(-0.030-0.001j)\\\\(-0.009+0.006j)\\\\(-0.001+0.003j)\\\\(2.537\\times10^{-04}+9.953\\times10^{-04}j)\\\\(2.415\\times10^{-04}+2.038\\times10^{-04}j)\\\\\\end{array}\\right)\\end{equation*}"
      ],
      "text/plain": [
       "Quantum object: dims = [[10], [1]], shape = (10, 1), type = ket\n",
       "Qobj data =\n",
       "[[ 6.90734331e-01+0.00000000e+00j]\n",
       " [ 4.83514031e-01-3.45367165e-01j]\n",
       " [ 1.17221503e-01-3.41896050e-01j]\n",
       " [-5.13223820e-02-1.72014577e-01j]\n",
       " [-6.09664760e-02-4.73745049e-02j]\n",
       " [-2.96788082e-02-1.19804826e-03j]\n",
       " [-8.72585340e-03+5.71570993e-03j]\n",
       " [-1.22879820e-03+3.16209470e-03j]\n",
       " [ 2.53718214e-04+9.95272979e-04j]\n",
       " [ 2.41463105e-04+2.03769850e-04j]]"
      ]
     },
     "execution_count": 11,
     "metadata": {},
     "output_type": "execute_result"
    }
   ],
   "source": [
    "coherent(10,0.7-0.5j)"
   ]
  },
  {
   "cell_type": "markdown",
   "id": "601020a2",
   "metadata": {},
   "source": [
    "# Qobj attributes"
   ]
  },
  {
   "cell_type": "code",
   "execution_count": 12,
   "id": "3f2c1f27",
   "metadata": {},
   "outputs": [
    {
     "data": {
      "text/latex": [
       "Quantum object: dims = [[4], [4]], shape = (4, 4), type = oper, isherm = False\\begin{equation*}\\left(\\begin{array}{*{11}c}0.0 & 1.0 & 0.0 & 0.0\\\\0.0 & 0.0 & 1.414 & 0.0\\\\0.0 & 0.0 & 0.0 & 1.732\\\\0.0 & 0.0 & 0.0 & 0.0\\\\\\end{array}\\right)\\end{equation*}"
      ],
      "text/plain": [
       "Quantum object: dims = [[4], [4]], shape = (4, 4), type = oper, isherm = False\n",
       "Qobj data =\n",
       "[[0.         1.         0.         0.        ]\n",
       " [0.         0.         1.41421356 0.        ]\n",
       " [0.         0.         0.         1.73205081]\n",
       " [0.         0.         0.         0.        ]]"
      ]
     },
     "execution_count": 12,
     "metadata": {},
     "output_type": "execute_result"
    }
   ],
   "source": [
    "destroy(4)"
   ]
  },
  {
   "cell_type": "code",
   "execution_count": 13,
   "id": "896cd0dd",
   "metadata": {},
   "outputs": [
    {
     "data": {
      "text/latex": [
       "Quantum object: dims = [[2], [2]], shape = (2, 2), type = oper, isherm = True\\begin{equation*}\\left(\\begin{array}{*{11}c}1.0 & 0.0\\\\0.0 & -1.0\\\\\\end{array}\\right)\\end{equation*}"
      ],
      "text/plain": [
       "Quantum object: dims = [[2], [2]], shape = (2, 2), type = oper, isherm = True\n",
       "Qobj data =\n",
       "[[ 1.  0.]\n",
       " [ 0. -1.]]"
      ]
     },
     "execution_count": 13,
     "metadata": {},
     "output_type": "execute_result"
    }
   ],
   "source": [
    " sigmaz()"
   ]
  },
  {
   "cell_type": "code",
   "execution_count": 14,
   "id": "3adbf09b",
   "metadata": {},
   "outputs": [
    {
     "data": {
      "text/latex": [
       "Quantum object: dims = [[6], [6]], shape = (6, 6), type = oper, isherm = False\\begin{equation*}\\left(\\begin{array}{*{11}c}0.0 & 2.236 & 0.0 & 0.0 & 0.0 & 0.0\\\\0.0 & 0.0 & 2.828 & 0.0 & 0.0 & 0.0\\\\0.0 & 0.0 & 0.0 & 3.0 & 0.0 & 0.0\\\\0.0 & 0.0 & 0.0 & 0.0 & 2.828 & 0.0\\\\0.0 & 0.0 & 0.0 & 0.0 & 0.0 & 2.236\\\\0.0 & 0.0 & 0.0 & 0.0 & 0.0 & 0.0\\\\\\end{array}\\right)\\end{equation*}"
      ],
      "text/plain": [
       "Quantum object: dims = [[6], [6]], shape = (6, 6), type = oper, isherm = False\n",
       "Qobj data =\n",
       "[[0.         2.23606798 0.         0.         0.         0.        ]\n",
       " [0.         0.         2.82842712 0.         0.         0.        ]\n",
       " [0.         0.         0.         3.         0.         0.        ]\n",
       " [0.         0.         0.         0.         2.82842712 0.        ]\n",
       " [0.         0.         0.         0.         0.         2.23606798]\n",
       " [0.         0.         0.         0.         0.         0.        ]]"
      ]
     },
     "execution_count": 14,
     "metadata": {},
     "output_type": "execute_result"
    }
   ],
   "source": [
    "jmat(5/2.0,'+')"
   ]
  },
  {
   "cell_type": "markdown",
   "id": "f5664f82",
   "metadata": {},
   "source": [
    "# Qobj Math"
   ]
  },
  {
   "cell_type": "code",
   "execution_count": 17,
   "id": "72773731",
   "metadata": {},
   "outputs": [
    {
     "data": {
      "text/plain": [
       "[[4], [4]]"
      ]
     },
     "execution_count": 17,
     "metadata": {},
     "output_type": "execute_result"
    }
   ],
   "source": [
    "q = destroy(4)\n",
    "q.dims"
   ]
  },
  {
   "cell_type": "code",
   "execution_count": 18,
   "id": "0628a32a",
   "metadata": {},
   "outputs": [
    {
     "data": {
      "text/plain": [
       "(4, 4)"
      ]
     },
     "execution_count": 18,
     "metadata": {},
     "output_type": "execute_result"
    }
   ],
   "source": [
    "q.shape"
   ]
  },
  {
   "cell_type": "code",
   "execution_count": 19,
   "id": "90377832",
   "metadata": {},
   "outputs": [
    {
     "data": {
      "text/plain": [
       "'oper'"
      ]
     },
     "execution_count": 19,
     "metadata": {},
     "output_type": "execute_result"
    }
   ],
   "source": [
    "q.type"
   ]
  },
  {
   "cell_type": "code",
   "execution_count": 20,
   "id": "a442c48a",
   "metadata": {},
   "outputs": [
    {
     "data": {
      "text/plain": [
       "False"
      ]
     },
     "execution_count": 20,
     "metadata": {},
     "output_type": "execute_result"
    }
   ],
   "source": [
    "q.isherm"
   ]
  },
  {
   "cell_type": "code",
   "execution_count": 21,
   "id": "912e57d3",
   "metadata": {},
   "outputs": [
    {
     "data": {
      "text/plain": [
       "<4x4 sparse matrix of type '<class 'numpy.complex128'>'\n",
       "\twith 3 stored elements in Compressed Sparse Row format>"
      ]
     },
     "execution_count": 21,
     "metadata": {},
     "output_type": "execute_result"
    }
   ],
   "source": [
    "q.data"
   ]
  },
  {
   "cell_type": "code",
   "execution_count": 23,
   "id": "f592265f",
   "metadata": {},
   "outputs": [
    {
     "data": {
      "text/latex": [
       "Quantum object: dims = [[4], [4]], shape = (4, 4), type = oper, isherm = False\\begin{equation*}\\left(\\begin{array}{*{11}c}5.0 & 1.0 & 0.0 & 0.0\\\\0.0 & 5.0 & 1.414 & 0.0\\\\0.0 & 0.0 & 5.0 & 1.732\\\\0.0 & 0.0 & 0.0 & 5.0\\\\\\end{array}\\right)\\end{equation*}"
      ],
      "text/plain": [
       "Quantum object: dims = [[4], [4]], shape = (4, 4), type = oper, isherm = False\n",
       "Qobj data =\n",
       "[[5.         1.         0.         0.        ]\n",
       " [0.         5.         1.41421356 0.        ]\n",
       " [0.         0.         5.         1.73205081]\n",
       " [0.         0.         0.         5.        ]]"
      ]
     },
     "execution_count": 23,
     "metadata": {},
     "output_type": "execute_result"
    }
   ],
   "source": [
    "q = destroy(4)\n",
    "x = sigmax()\n",
    "q + 5"
   ]
  },
  {
   "cell_type": "code",
   "execution_count": 24,
   "id": "be49301a",
   "metadata": {},
   "outputs": [
    {
     "data": {
      "text/latex": [
       "Quantum object: dims = [[2], [2]], shape = (2, 2), type = oper, isherm = True\\begin{equation*}\\left(\\begin{array}{*{11}c}1.0 & 0.0\\\\0.0 & 1.0\\\\\\end{array}\\right)\\end{equation*}"
      ],
      "text/plain": [
       "Quantum object: dims = [[2], [2]], shape = (2, 2), type = oper, isherm = True\n",
       "Qobj data =\n",
       "[[1. 0.]\n",
       " [0. 1.]]"
      ]
     },
     "execution_count": 24,
     "metadata": {},
     "output_type": "execute_result"
    }
   ],
   "source": [
    "x * x"
   ]
  },
  {
   "cell_type": "code",
   "execution_count": 25,
   "id": "5b5878f2",
   "metadata": {},
   "outputs": [
    {
     "data": {
      "text/latex": [
       "Quantum object: dims = [[4], [4]], shape = (4, 4), type = oper, isherm = False\\begin{equation*}\\left(\\begin{array}{*{11}c}0.0 & 0.0 & 0.0 & 2.449\\\\0.0 & 0.0 & 0.0 & 0.0\\\\0.0 & 0.0 & 0.0 & 0.0\\\\0.0 & 0.0 & 0.0 & 0.0\\\\\\end{array}\\right)\\end{equation*}"
      ],
      "text/plain": [
       "Quantum object: dims = [[4], [4]], shape = (4, 4), type = oper, isherm = False\n",
       "Qobj data =\n",
       "[[0.         0.         0.         2.44948974]\n",
       " [0.         0.         0.         0.        ]\n",
       " [0.         0.         0.         0.        ]\n",
       " [0.         0.         0.         0.        ]]"
      ]
     },
     "execution_count": 25,
     "metadata": {},
     "output_type": "execute_result"
    }
   ],
   "source": [
    "q ** 3"
   ]
  },
  {
   "cell_type": "code",
   "execution_count": 26,
   "id": "419d36bc",
   "metadata": {},
   "outputs": [
    {
     "data": {
      "text/latex": [
       "Quantum object: dims = [[2], [2]], shape = (2, 2), type = oper, isherm = True\\begin{equation*}\\left(\\begin{array}{*{11}c}0.0 & 0.707\\\\0.707 & 0.0\\\\\\end{array}\\right)\\end{equation*}"
      ],
      "text/plain": [
       "Quantum object: dims = [[2], [2]], shape = (2, 2), type = oper, isherm = True\n",
       "Qobj data =\n",
       "[[0.         0.70710678]\n",
       " [0.70710678 0.        ]]"
      ]
     },
     "execution_count": 26,
     "metadata": {},
     "output_type": "execute_result"
    }
   ],
   "source": [
    " x / np.sqrt(2)"
   ]
  },
  {
   "cell_type": "markdown",
   "id": "e7f02fb7",
   "metadata": {},
   "source": [
    "# Functions operating on Qobj class"
   ]
  },
  {
   "cell_type": "code",
   "execution_count": 28,
   "id": "893ac417",
   "metadata": {},
   "outputs": [
    {
     "data": {
      "text/latex": [
       "Quantum object: dims = [[5], [1]], shape = (5, 1), type = ket\\begin{equation*}\\left(\\begin{array}{*{11}c}0.0\\\\0.0\\\\0.0\\\\1.0\\\\0.0\\\\\\end{array}\\right)\\end{equation*}"
      ],
      "text/plain": [
       "Quantum object: dims = [[5], [1]], shape = (5, 1), type = ket\n",
       "Qobj data =\n",
       "[[0.]\n",
       " [0.]\n",
       " [0.]\n",
       " [1.]\n",
       " [0.]]"
      ]
     },
     "execution_count": 28,
     "metadata": {},
     "output_type": "execute_result"
    }
   ],
   "source": [
    "basis(5, 3)"
   ]
  },
  {
   "cell_type": "code",
   "execution_count": 29,
   "id": "d2751ba9",
   "metadata": {},
   "outputs": [
    {
     "data": {
      "text/latex": [
       "Quantum object: dims = [[1], [5]], shape = (1, 5), type = bra\\begin{equation*}\\left(\\begin{array}{*{11}c}0.0 & 0.0 & 0.0 & 1.0 & 0.0\\\\\\end{array}\\right)\\end{equation*}"
      ],
      "text/plain": [
       "Quantum object: dims = [[1], [5]], shape = (1, 5), type = bra\n",
       "Qobj data =\n",
       "[[0. 0. 0. 1. 0.]]"
      ]
     },
     "execution_count": 29,
     "metadata": {},
     "output_type": "execute_result"
    }
   ],
   "source": [
    "basis(5, 3).dag()"
   ]
  },
  {
   "cell_type": "code",
   "execution_count": 30,
   "id": "91549214",
   "metadata": {},
   "outputs": [
    {
     "data": {
      "text/latex": [
       "Quantum object: dims = [[5], [5]], shape = (5, 5), type = oper, isherm = True\\begin{equation*}\\left(\\begin{array}{*{11}c}0.368 & 0.368 & 0.261 & 0.146 & 0.088\\\\0.368 & 0.368 & 0.261 & 0.146 & 0.088\\\\0.261 & 0.261 & 0.185 & 0.104 & 0.063\\\\0.146 & 0.146 & 0.104 & 0.058 & 0.035\\\\0.088 & 0.088 & 0.063 & 0.035 & 0.021\\\\\\end{array}\\right)\\end{equation*}"
      ],
      "text/plain": [
       "Quantum object: dims = [[5], [5]], shape = (5, 5), type = oper, isherm = True\n",
       "Qobj data =\n",
       "[[0.36791117 0.36774407 0.26105441 0.14620658 0.08826704]\n",
       " [0.36774407 0.36757705 0.26093584 0.14614018 0.08822695]\n",
       " [0.26105441 0.26093584 0.18523331 0.10374209 0.06263061]\n",
       " [0.14620658 0.14614018 0.10374209 0.05810197 0.035077  ]\n",
       " [0.08826704 0.08822695 0.06263061 0.035077   0.0211765 ]]"
      ]
     },
     "execution_count": 30,
     "metadata": {},
     "output_type": "execute_result"
    }
   ],
   "source": [
    "coherent_dm(5, 1)"
   ]
  },
  {
   "cell_type": "code",
   "execution_count": 31,
   "id": "ae323005",
   "metadata": {},
   "outputs": [
    {
     "data": {
      "text/plain": [
       "array([0.36791117, 0.36757705, 0.18523331, 0.05810197, 0.0211765 ])"
      ]
     },
     "execution_count": 31,
     "metadata": {},
     "output_type": "execute_result"
    }
   ],
   "source": [
    "coherent_dm(5, 1).diag()"
   ]
  },
  {
   "cell_type": "code",
   "execution_count": 32,
   "id": "86846670",
   "metadata": {},
   "outputs": [
    {
     "data": {
      "text/plain": [
       "array([0.36791117, 0.36757705, 0.18523331, 0.05810197, 0.0211765 ])"
      ]
     },
     "execution_count": 32,
     "metadata": {},
     "output_type": "execute_result"
    }
   ],
   "source": [
    "coherent_dm(5, 1).diag()"
   ]
  },
  {
   "cell_type": "code",
   "execution_count": 33,
   "id": "44a807c9",
   "metadata": {},
   "outputs": [
    {
     "data": {
      "text/plain": [
       "1.000000021054981"
      ]
     },
     "execution_count": 33,
     "metadata": {},
     "output_type": "execute_result"
    }
   ],
   "source": [
    "coherent_dm(5, 1).norm()"
   ]
  },
  {
   "cell_type": "code",
   "execution_count": 34,
   "id": "6a48c5d2",
   "metadata": {},
   "outputs": [
    {
     "data": {
      "text/plain": [
       "array([[0.36791117+0.j, 0.36774407+0.j, 0.26105441+0.j, 0.14620658+0.j,\n",
       "        0.08826704+0.j],\n",
       "       [0.36774407+0.j, 0.36757705+0.j, 0.26093584+0.j, 0.14614018+0.j,\n",
       "        0.08822695+0.j],\n",
       "       [0.26105441+0.j, 0.26093584+0.j, 0.18523331+0.j, 0.10374209+0.j,\n",
       "        0.06263061+0.j],\n",
       "       [0.14620658+0.j, 0.14614018+0.j, 0.10374209+0.j, 0.05810197+0.j,\n",
       "        0.035077  +0.j],\n",
       "       [0.08826704+0.j, 0.08822695+0.j, 0.06263061+0.j, 0.035077  +0.j,\n",
       "        0.0211765 +0.j]])"
      ]
     },
     "execution_count": 34,
     "metadata": {},
     "output_type": "execute_result"
    }
   ],
   "source": [
    "coherent_dm(5, 1).full()"
   ]
  },
  {
   "cell_type": "code",
   "execution_count": 35,
   "id": "24ae09eb",
   "metadata": {},
   "outputs": [
    {
     "data": {
      "text/plain": [
       "array([[0.36791117+0.j, 0.36774407+0.j, 0.26105441+0.j, 0.14620658+0.j,\n",
       "        0.08826704+0.j],\n",
       "       [0.36774407+0.j, 0.36757705+0.j, 0.26093584+0.j, 0.14614018+0.j,\n",
       "        0.08822695+0.j],\n",
       "       [0.26105441+0.j, 0.26093584+0.j, 0.18523331+0.j, 0.10374209+0.j,\n",
       "        0.06263061+0.j],\n",
       "       [0.14620658+0.j, 0.14614018+0.j, 0.10374209+0.j, 0.05810197+0.j,\n",
       "        0.035077  +0.j],\n",
       "       [0.08826704+0.j, 0.08822695+0.j, 0.06263061+0.j, 0.035077  +0.j,\n",
       "        0.0211765 +0.j]])"
      ]
     },
     "execution_count": 35,
     "metadata": {},
     "output_type": "execute_result"
    }
   ],
   "source": [
    "coherent_dm(5, 1).full()"
   ]
  },
  {
   "cell_type": "code",
   "execution_count": 36,
   "id": "2b4a7ac3",
   "metadata": {},
   "outputs": [
    {
     "data": {
      "text/plain": [
       "0.9999999999999999"
      ]
     },
     "execution_count": 36,
     "metadata": {},
     "output_type": "execute_result"
    }
   ],
   "source": [
    "coherent_dm(5, 1).tr()"
   ]
  },
  {
   "cell_type": "code",
   "execution_count": 37,
   "id": "941d4ce0",
   "metadata": {},
   "outputs": [
    {
     "data": {
      "text/latex": [
       "Quantum object: dims = [[4], [1]], shape = (4, 1), type = ket\\begin{equation*}\\left(\\begin{array}{*{11}c}0.0\\\\0.707\\\\0.707\\\\0.0\\\\\\end{array}\\right)\\end{equation*}"
      ],
      "text/plain": [
       "Quantum object: dims = [[4], [1]], shape = (4, 1), type = ket\n",
       "Qobj data =\n",
       "[[0.        ]\n",
       " [0.70710678]\n",
       " [0.70710678]\n",
       " [0.        ]]"
      ]
     },
     "execution_count": 37,
     "metadata": {},
     "output_type": "execute_result"
    }
   ],
   "source": [
    "(basis(4, 2) + basis(4, 1)).unit()"
   ]
  },
  {
   "cell_type": "code",
   "execution_count": null,
   "id": "b7d5e412",
   "metadata": {},
   "outputs": [],
   "source": []
  }
 ],
 "metadata": {
  "kernelspec": {
   "display_name": "Python 3",
   "language": "python",
   "name": "python3"
  },
  "language_info": {
   "codemirror_mode": {
    "name": "ipython",
    "version": 3
   },
   "file_extension": ".py",
   "mimetype": "text/x-python",
   "name": "python",
   "nbconvert_exporter": "python",
   "pygments_lexer": "ipython3",
   "version": "3.8.8"
  }
 },
 "nbformat": 4,
 "nbformat_minor": 5
}
